{
  "metadata": {
    "kernelspec": {
      "name": "python3",
      "display_name": "Python 3",
      "language": "python"
    },
    "language_info": {
      "name": "python",
      "version": "3.11.13",
      "mimetype": "text/x-python",
      "codemirror_mode": {
        "name": "ipython",
        "version": 3
      },
      "pygments_lexer": "ipython3",
      "nbconvert_exporter": "python",
      "file_extension": ".py"
    },
    "colab": {
      "provenance": [],
      "include_colab_link": true
    },
    "kaggle": {
      "accelerator": "nvidiaTeslaT4",
      "dataSources": [
        {
          "sourceId": 12891126,
          "sourceType": "datasetVersion",
          "datasetId": 8156059
        }
      ],
      "dockerImageVersionId": 31090,
      "isInternetEnabled": true,
      "language": "python",
      "sourceType": "notebook",
      "isGpuEnabled": true
    }
  },
  "nbformat_minor": 0,
  "nbformat": 4,
  "cells": [
    {
      "cell_type": "markdown",
      "metadata": {
        "id": "view-in-github",
        "colab_type": "text"
      },
      "source": [
        "<a href=\"https://colab.research.google.com/github/Gurushankar2025/Langchain-rag-projects/blob/main/pdfchatbot/Pdf_Chat_Bot.ipynb\" target=\"_parent\"><img src=\"https://colab.research.google.com/assets/colab-badge.svg\" alt=\"Open In Colab\"/></a>"
      ]
    },
    {
      "cell_type": "markdown",
      "source": [
        "### **Install Packages and Library**"
      ],
      "metadata": {
        "id": "1pWbnfrWVtrZ"
      }
    },
    {
      "cell_type": "code",
      "source": [
        "!pip install langchain_community\n",
        "!pip install transformers"
      ],
      "metadata": {
        "id": "MigG_6MNhf4C",
        "trusted": true,
        "execution": {
          "iopub.status.busy": "2025-08-29T12:54:43.459998Z",
          "iopub.execute_input": "2025-08-29T12:54:43.460307Z",
          "iopub.status.idle": "2025-08-29T12:54:57.498064Z",
          "shell.execute_reply.started": "2025-08-29T12:54:43.460265Z",
          "shell.execute_reply": "2025-08-29T12:54:57.497205Z"
        },
        "collapsed": true
      },
      "outputs": [],
      "execution_count": null
    },
    {
      "cell_type": "code",
      "source": [
        "!pip install wikipedia"
      ],
      "metadata": {
        "trusted": true,
        "execution": {
          "iopub.status.busy": "2025-08-29T12:54:57.499458Z",
          "iopub.execute_input": "2025-08-29T12:54:57.499739Z",
          "iopub.status.idle": "2025-08-29T12:55:01.375321Z",
          "shell.execute_reply.started": "2025-08-29T12:54:57.499704Z",
          "shell.execute_reply": "2025-08-29T12:55:01.374635Z"
        },
        "id": "321Pj0NlBmZ1"
      },
      "outputs": [],
      "execution_count": null
    },
    {
      "cell_type": "code",
      "source": [
        "!pip install langchain"
      ],
      "metadata": {
        "id": "ZOOf-Hb2pcvH",
        "trusted": true,
        "execution": {
          "iopub.status.busy": "2025-08-29T12:55:01.37636Z",
          "iopub.execute_input": "2025-08-29T12:55:01.376615Z",
          "iopub.status.idle": "2025-08-29T12:55:03.377002Z",
          "shell.execute_reply.started": "2025-08-29T12:55:01.376588Z",
          "shell.execute_reply": "2025-08-29T12:55:03.376284Z"
        }
      },
      "outputs": [],
      "execution_count": null
    },
    {
      "cell_type": "code",
      "source": [
        "!pip install langchain_huggingface"
      ],
      "metadata": {
        "id": "gHFQ_n8vOzUq",
        "trusted": true,
        "execution": {
          "iopub.status.busy": "2025-08-29T12:55:03.379139Z",
          "iopub.execute_input": "2025-08-29T12:55:03.3794Z",
          "iopub.status.idle": "2025-08-29T12:55:06.19597Z",
          "shell.execute_reply.started": "2025-08-29T12:55:03.379363Z",
          "shell.execute_reply": "2025-08-29T12:55:06.195297Z"
        }
      },
      "outputs": [],
      "execution_count": null
    },
    {
      "cell_type": "code",
      "source": [
        "!pip install pypdf"
      ],
      "metadata": {
        "id": "AipL1jVdhzU1",
        "trusted": true,
        "execution": {
          "iopub.status.busy": "2025-08-29T12:55:06.197068Z",
          "iopub.execute_input": "2025-08-29T12:55:06.197328Z",
          "iopub.status.idle": "2025-08-29T12:55:08.127036Z",
          "shell.execute_reply.started": "2025-08-29T12:55:06.197302Z",
          "shell.execute_reply": "2025-08-29T12:55:08.126357Z"
        }
      },
      "outputs": [],
      "execution_count": null
    },
    {
      "cell_type": "code",
      "source": [
        "!pip install faiss-cpu"
      ],
      "metadata": {
        "id": "pT_vpn6kjJA5",
        "trusted": true,
        "execution": {
          "iopub.status.busy": "2025-08-29T12:55:08.128088Z",
          "iopub.execute_input": "2025-08-29T12:55:08.128377Z",
          "iopub.status.idle": "2025-08-29T12:55:11.721028Z",
          "shell.execute_reply.started": "2025-08-29T12:55:08.128331Z",
          "shell.execute_reply": "2025-08-29T12:55:11.72037Z"
        }
      },
      "outputs": [],
      "execution_count": null
    },
    {
      "cell_type": "code",
      "source": [
        "!pip install --upgrade huggingface_hub"
      ],
      "metadata": {
        "id": "GZlNJIhdLcr8"
      },
      "execution_count": null,
      "outputs": []
    },
    {
      "cell_type": "code",
      "source": [
        "!pip install --upgrade transformers"
      ],
      "metadata": {
        "id": "iQe6GVO9a6GW"
      },
      "execution_count": null,
      "outputs": []
    },
    {
      "cell_type": "code",
      "source": [
        "!pip install -U bitsandbytes"
      ],
      "metadata": {
        "id": "m6pLJB8gbEyr"
      },
      "execution_count": null,
      "outputs": []
    },
    {
      "cell_type": "code",
      "source": [
        "!pip install -U accelerate"
      ],
      "metadata": {
        "id": "NYWvDpw9bVRu"
      },
      "execution_count": 1,
      "outputs": []
    },
    {
      "cell_type": "markdown",
      "source": [
        "### **Import Libraries**"
      ],
      "metadata": {
        "id": "Bz8CDrgohaTa"
      }
    },
    {
      "cell_type": "code",
      "source": [
        "#Library for Knowledgebase,vectorstore,documentloader\n",
        "from langchain_community.document_loaders import PyPDFLoader\n",
        "from langchain_text_splitters import RecursiveCharacterTextSplitter\n",
        "from langchain import FAISS\n",
        "\n",
        "#Library for LLM and embedding model wrappers from huggingface\n",
        "from langchain_huggingface import HuggingFaceEmbeddings,HuggingFaceEndpoint,HuggingFacePipeline,ChatHuggingFace\n",
        "\n",
        "#library for agent[React agent]\n",
        "from langchain.tools import WikipediaQueryRun\n",
        "from langchain.agents import create_react_agent\n",
        "from langchain.agents import AgentType"
      ],
      "metadata": {
        "id": "DtTlGVZkhOz0",
        "trusted": true,
        "execution": {
          "iopub.status.busy": "2025-08-29T13:01:40.800019Z",
          "iopub.execute_input": "2025-08-29T13:01:40.800646Z",
          "iopub.status.idle": "2025-08-29T13:01:41.263239Z",
          "shell.execute_reply.started": "2025-08-29T13:01:40.800622Z",
          "shell.execute_reply": "2025-08-29T13:01:41.262517Z"
        }
      },
      "outputs": [],
      "execution_count": null
    },
    {
      "cell_type": "code",
      "source": [
        "# from transformers import BitsAndBytesConfig\n",
        "\n",
        "# quantization_config = BitsAndBytesConfig(\n",
        "#     load_in_4bit=True,\n",
        "#     bnb_4bit_quant_type=\"nf4\",\n",
        "#     bnb_4bit_compute_dtype=\"float16\",\n",
        "#     bnb_4bit_use_double_quant=True,\n",
        "# )"
      ],
      "metadata": {
        "id": "Y2e-JoGvclks"
      },
      "execution_count": null,
      "outputs": []
    },
    {
      "cell_type": "markdown",
      "source": [
        "### **Vector Store**"
      ],
      "metadata": {
        "id": "0ckFNFpmAezZ"
      }
    },
    {
      "cell_type": "code",
      "source": [
        "loader = PyPDFLoader('/content/Class_10_Mathematics_English_Medium-2024_Edition-www.tntextbooks.in.pdf')\n",
        "\n",
        "docs = loader.load()\n",
        "\n"
      ],
      "metadata": {
        "id": "-9489LwFAeTE",
        "trusted": true,
        "execution": {
          "iopub.status.busy": "2025-08-29T13:03:00.892122Z",
          "iopub.execute_input": "2025-08-29T13:03:00.892915Z",
          "iopub.status.idle": "2025-08-29T13:03:38.082986Z",
          "shell.execute_reply.started": "2025-08-29T13:03:00.892889Z",
          "shell.execute_reply": "2025-08-29T13:03:38.082226Z"
        }
      },
      "outputs": [],
      "execution_count": null
    },
    {
      "cell_type": "code",
      "source": [
        "# loader1 = PyPDFLoader('/content/namma_kalvi_10th_maths_guide_em_219527.pdf')\n",
        "# docs1 = loader1.load()"
      ],
      "metadata": {
        "id": "gX8ETdYnCgAO",
        "trusted": true,
        "execution": {
          "iopub.status.busy": "2025-08-29T12:55:12.845739Z",
          "iopub.status.idle": "2025-08-29T12:55:12.845945Z",
          "shell.execute_reply.started": "2025-08-29T12:55:12.845844Z",
          "shell.execute_reply": "2025-08-29T12:55:12.845852Z"
        }
      },
      "outputs": [],
      "execution_count": null
    },
    {
      "cell_type": "code",
      "source": [
        "loader2 = PyPDFLoader('/content/10th_Science_EM_Text_www.tntextbooks.in.pdf')\n",
        "docs2 = loader2.load()"
      ],
      "metadata": {
        "id": "21P81kIjMty0"
      },
      "execution_count": null,
      "outputs": []
    },
    {
      "cell_type": "code",
      "source": [
        "spliter=RecursiveCharacterTextSplitter(chunk_size=500,chunk_overlap=50)\n",
        "docchunks = spliter.split_documents(docs)\n",
        "docchunks2 = spliter.split_documents(docs2)\n",
        "# docchunks1 = spliter.split_documents(docs1)"
      ],
      "metadata": {
        "id": "bVOsDHb5C-tt",
        "trusted": true,
        "execution": {
          "iopub.status.busy": "2025-08-29T13:04:21.099726Z",
          "iopub.execute_input": "2025-08-29T13:04:21.100416Z",
          "iopub.status.idle": "2025-08-29T13:04:21.150314Z",
          "shell.execute_reply.started": "2025-08-29T13:04:21.100389Z",
          "shell.execute_reply": "2025-08-29T13:04:21.149601Z"
        }
      },
      "outputs": [],
      "execution_count": null
    },
    {
      "cell_type": "code",
      "source": [
        "embbeding = HuggingFaceEmbeddings(model='sentence-transformers/all-MiniLM-L6-v2')"
      ],
      "metadata": {
        "id": "l1b-BJkxEVDj",
        "trusted": true,
        "execution": {
          "iopub.status.busy": "2025-08-29T13:04:25.299853Z",
          "iopub.execute_input": "2025-08-29T13:04:25.300371Z",
          "iopub.status.idle": "2025-08-29T13:05:02.042419Z",
          "shell.execute_reply.started": "2025-08-29T13:04:25.300325Z",
          "shell.execute_reply": "2025-08-29T13:05:02.041578Z"
        }
      },
      "outputs": [],
      "execution_count": null
    },
    {
      "cell_type": "code",
      "source": [
        "allchunks = docchunks+docchunks2"
      ],
      "metadata": {
        "id": "9ECwVin_OE3Z"
      },
      "execution_count": null,
      "outputs": []
    },
    {
      "cell_type": "code",
      "source": [
        "vs = FAISS.from_documents(documents=allchunks,embedding=embbeding)"
      ],
      "metadata": {
        "id": "H_oo2eGRUchr",
        "trusted": true,
        "execution": {
          "iopub.status.busy": "2025-08-29T13:06:06.529928Z",
          "iopub.execute_input": "2025-08-29T13:06:06.530227Z",
          "iopub.status.idle": "2025-08-29T13:06:10.152613Z",
          "shell.execute_reply.started": "2025-08-29T13:06:06.530203Z",
          "shell.execute_reply": "2025-08-29T13:06:10.151957Z"
        }
      },
      "outputs": [],
      "execution_count": null
    },
    {
      "cell_type": "markdown",
      "source": [
        "### **LLM MODEL**"
      ],
      "metadata": {
        "id": "4Rx6MR-WBmZ6"
      }
    },
    {
      "cell_type": "code",
      "source": [
        "import torch\n",
        "device_flag = 1 if torch.cuda.is_available() else 0"
      ],
      "metadata": {
        "trusted": true,
        "execution": {
          "iopub.status.busy": "2025-08-29T13:07:07.63945Z",
          "iopub.execute_input": "2025-08-29T13:07:07.640115Z",
          "iopub.status.idle": "2025-08-29T13:07:07.6433Z",
          "shell.execute_reply.started": "2025-08-29T13:07:07.640092Z",
          "shell.execute_reply": "2025-08-29T13:07:07.642727Z"
        },
        "id": "gDOFlTAMBmZ6"
      },
      "outputs": [],
      "execution_count": null
    },
    {
      "cell_type": "code",
      "source": [
        "# from transformers import pipeline\n",
        "# pipe = pipeline('text2text-generation',model='facebook/mbart-large-50-many-to-many-mmt',device=device_flag)\n",
        "# llm=HuggingFacePipeline(pipeline=pipe)"
      ],
      "metadata": {
        "trusted": true,
        "execution": {
          "iopub.status.busy": "2025-08-29T13:07:29.43966Z",
          "iopub.execute_input": "2025-08-29T13:07:29.439977Z",
          "iopub.status.idle": "2025-08-29T13:07:50.627819Z",
          "shell.execute_reply.started": "2025-08-29T13:07:29.439951Z",
          "shell.execute_reply": "2025-08-29T13:07:50.627076Z"
        },
        "id": "YRGxyFFIBmZ6"
      },
      "outputs": [],
      "execution_count": null
    },
    {
      "cell_type": "markdown",
      "source": [
        "#### **LLM Implemented using HuggingFaceEndpoint**"
      ],
      "metadata": {
        "id": "N8TOfWepXbYH"
      }
    },
    {
      "cell_type": "code",
      "source": [
        "import os\n",
        "os.environ['HUGGINGFACEHUB_API_KEY']='your_HF_api_key'"
      ],
      "metadata": {
        "id": "JQoKW_pqSNPM"
      },
      "execution_count": null,
      "outputs": []
    },
    {
      "cell_type": "code",
      "source": [
        "repo_id = 'deepseek-ai/DeepSeek-R1-0528'\n",
        "LLM=HuggingFaceEndpoint(\n",
        "    repo_id=repo_id,\n",
        "    temperature=0.2,\n",
        "    max_new_tokens=50,\n",
        "    huggingfacehub_api_token='you _HF_api_key'\n",
        "\n",
        ")\n",
        "\n",
        "chat=ChatHuggingFace(llm=LLM)     #wrapping the LLm model with ChatHuggingFace in order to pass and get chat input (system and user messages) and output (ai message)."
      ],
      "metadata": {
        "id": "0txYR_OgRObc"
      },
      "execution_count": null,
      "outputs": []
    },
    {
      "cell_type": "markdown",
      "source": [
        "#### **LLM Implemented using HuggingFacePipeline**"
      ],
      "metadata": {
        "id": "AgXUx_nhWPUZ"
      }
    },
    {
      "cell_type": "code",
      "source": [
        "\n",
        "\n",
        "# llm = HuggingFacePipeline.from_model_id(\n",
        "#     model_id=\"microsoft/phi-2\",\n",
        "#     task=\"text-generation\",\n",
        "#     pipeline_kwargs=dict(\n",
        "#         max_new_tokens=512,\n",
        "\n",
        "#     ),\n",
        "# )\n",
        "\n",
        "# chat_model = ChatHuggingFace(llm=llm)"
      ],
      "metadata": {
        "id": "Pw6d4B8Oc5R7"
      },
      "execution_count": null,
      "outputs": []
    },
    {
      "cell_type": "code",
      "source": [
        "# from langchain_core.messages import (\n",
        "#     HumanMessage,\n",
        "#     SystemMessage,\n",
        "# )\n",
        "\n",
        "# messages = [\n",
        "#     SystemMessage(content=\"You're a helpful assistant\"),\n",
        "#     HumanMessage(\n",
        "#         content=\"What happens when an unstoppable force meets an immovable object?\"\n",
        "#     ),\n",
        "# ]\n",
        "\n",
        "# ai_msg = chat_model.invoke(messages)"
      ],
      "metadata": {
        "id": "TJD-7ly0kkvu"
      },
      "execution_count": null,
      "outputs": []
    },
    {
      "cell_type": "code",
      "source": [
        "#system Message\n",
        "template=\"\"\"\n",
        "You are StudyHelper, an AI assistant for students and workers. Always follow the Think → Act → Observe → Answer framework, but only show the final Answer and in details if math problems is involved in the final output. Give direct answers if simple, or use documents/tools if they provide better context.\n",
        "\"\"\""
      ],
      "metadata": {
        "id": "Cjegbs4hUGLL"
      },
      "execution_count": null,
      "outputs": []
    },
    {
      "cell_type": "code",
      "source": [
        "# create chat template (system message(Instruction and behaviour prompt) and user message(prompt with user input variables))\n",
        "from langchain_core.prompts import ChatPromptTemplate\n",
        "\n",
        "chatprompt = ChatPromptTemplate(\n",
        "    [(\"system\",template),(\"user\",\"Answer this Question: {query} with this document: {doc_contents}\")]\n",
        ")\n"
      ],
      "metadata": {
        "trusted": true,
        "execution": {
          "iopub.status.busy": "2025-08-29T13:07:16.114817Z",
          "iopub.execute_input": "2025-08-29T13:07:16.115516Z",
          "iopub.status.idle": "2025-08-29T13:07:16.134965Z",
          "shell.execute_reply.started": "2025-08-29T13:07:16.115488Z",
          "shell.execute_reply": "2025-08-29T13:07:16.134387Z"
        },
        "id": "ry4ZhG0nBmZ6"
      },
      "outputs": [],
      "execution_count": null
    },
    {
      "cell_type": "markdown",
      "source": [
        "### **AGENT**"
      ],
      "metadata": {
        "id": "3P_e4ZHlBmZ7"
      }
    },
    {
      "cell_type": "code",
      "source": [
        "#Another way of creating a react agent\n",
        "# from re import VERBOSE\n",
        "# react_agent=create_react_agent(tools=tools,llm=llm,prompt=prompt)"
      ],
      "metadata": {
        "trusted": true,
        "execution": {
          "iopub.status.busy": "2025-08-29T13:19:06.721445Z",
          "iopub.execute_input": "2025-08-29T13:19:06.721723Z",
          "iopub.status.idle": "2025-08-29T13:19:06.727524Z",
          "shell.execute_reply.started": "2025-08-29T13:19:06.721702Z",
          "shell.execute_reply": "2025-08-29T13:19:06.726796Z"
        },
        "id": "29bNLW0XBmZ7"
      },
      "outputs": [],
      "execution_count": null
    },
    {
      "cell_type": "code",
      "source": [
        "# load tools\n",
        "from langchain.agents import load_tools\n",
        "tools = load_tools(['wikipedia','llm-math'],llm=chat)"
      ],
      "metadata": {
        "id": "74Ud_wVOXGkA"
      },
      "execution_count": null,
      "outputs": []
    },
    {
      "cell_type": "code",
      "source": [
        "#initialize agent\n",
        "from langchain.agents import initialize_agent\n",
        "\n",
        "react = initialize_agent(\n",
        "    tools=tools,\n",
        "    llm=chat,\n",
        "    AgentType='chat-zero-shot-react-description',\n",
        "    verbose=True\n",
        ")"
      ],
      "metadata": {
        "id": "k_r9B8Z7WSfz"
      },
      "execution_count": null,
      "outputs": []
    },
    {
      "cell_type": "code",
      "source": [
        "# from langchain.agents import AgentExecutor"
      ],
      "metadata": {
        "trusted": true,
        "execution": {
          "iopub.status.busy": "2025-08-29T13:19:10.826392Z",
          "iopub.execute_input": "2025-08-29T13:19:10.827099Z",
          "iopub.status.idle": "2025-08-29T13:19:10.830415Z",
          "shell.execute_reply.started": "2025-08-29T13:19:10.827071Z",
          "shell.execute_reply": "2025-08-29T13:19:10.829774Z"
        },
        "id": "Icl19RI4BmZ7"
      },
      "outputs": [],
      "execution_count": null
    },
    {
      "cell_type": "code",
      "source": [
        "# agent_exe = AgentExecutor.from_agent_and_tools(\n",
        "#     agent = react_agent,\n",
        "#     tools = tools,\n",
        "#     verbose = True,\n",
        "#     handle_parsing_error = True\n",
        "# )"
      ],
      "metadata": {
        "trusted": true,
        "execution": {
          "iopub.status.busy": "2025-08-29T13:19:13.971915Z",
          "iopub.execute_input": "2025-08-29T13:19:13.972573Z",
          "iopub.status.idle": "2025-08-29T13:19:13.976293Z",
          "shell.execute_reply.started": "2025-08-29T13:19:13.972545Z",
          "shell.execute_reply": "2025-08-29T13:19:13.975716Z"
        },
        "id": "n6gVK046BmZ8"
      },
      "outputs": [],
      "execution_count": null
    },
    {
      "cell_type": "code",
      "source": [
        "# response=agent_exe.invoke({'query':query,'doc_contents':doc_contents})\n",
        "# print(response['output'])"
      ],
      "metadata": {
        "trusted": true,
        "execution": {
          "iopub.status.busy": "2025-08-29T13:19:18.697589Z",
          "iopub.execute_input": "2025-08-29T13:19:18.698195Z",
          "iopub.status.idle": "2025-08-29T13:20:00.53771Z",
          "shell.execute_reply.started": "2025-08-29T13:19:18.698171Z",
          "shell.execute_reply": "2025-08-29T13:20:00.536758Z"
        },
        "id": "vhKAjVQKBmZ8"
      },
      "outputs": [],
      "execution_count": null
    },
    {
      "cell_type": "markdown",
      "source": [
        "### **rag and agent execution pipeline**"
      ],
      "metadata": {
        "id": "FoexXwz-eJ8T"
      }
    },
    {
      "cell_type": "code",
      "source": [
        "\n",
        "import re\n",
        "\n",
        "def pdfchatbotexeflow(query):\n",
        "    sim_docs = vs.similarity_search(query,k=3)      # for the query, does the similarity search and retrieve top 3 similar content for vector store\n",
        "    doc_contents = \" \".join([doc.page_content for doc in sim_docs])    # merge the retrieved documents page content (content present in that page presented in that document)\n",
        "    formatprompt=chatprompt.format(query=query,doc_contents=doc_contents)  #pass the query and merged contents to the user prompt and format chat prompt into a single string(agent.run(only accepts string as input))\n",
        "    response=react.run(formatprompt)   # pass the input string and get the final output here from llm to agent then here.\n",
        "    cleaned = re.sub(r\".*Final Answer\\s*\",\"\",response,flags=re.DOTALL)  # used to fetch only the final answer and if thought or action of llm is presented in final output it will be  not be taken clean the ouptut as  mathematical expression extracted from pdf content will have \\\\ a\n",
        "    cleaned = re.sub(r'\\\\\\(|\\\\\\)|\\\\\\[|\\\\\\]|\\\\\\\\', '', cleaned) # clean the ouptut as  mathematical expression extracted from pdf contents will have \\\\ so the llm also use these symbols in output expression.\n",
        "    return cleaned.strip()  # return the output with no extra whitespaces"
      ],
      "metadata": {
        "id": "3ojIGC2jrxjm"
      },
      "execution_count": null,
      "outputs": []
    },
    {
      "cell_type": "code",
      "source": [
        "import gradio as gr"
      ],
      "metadata": {
        "id": "dFNHgmaery2h"
      },
      "execution_count": null,
      "outputs": []
    },
    {
      "cell_type": "code",
      "source": [
        "demo = gr.Interface(    #run a simple UI\n",
        "    fn=pdfchatbotexeflow,   #agent and rag pipeline function\n",
        "    title=\"PDF-CHAT-BOT\",\n",
        "    inputs=[\"text\"],   #query\n",
        "    outputs=\"text\"     #ouput given by llm model\n",
        ")\n",
        "\n",
        "demo.launch()"
      ],
      "metadata": {
        "id": "DWNrTtM_r3xa"
      },
      "execution_count": null,
      "outputs": []
    }
  ]
}